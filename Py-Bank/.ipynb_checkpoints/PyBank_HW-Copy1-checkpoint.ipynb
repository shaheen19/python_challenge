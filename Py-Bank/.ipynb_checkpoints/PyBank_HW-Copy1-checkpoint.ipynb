{
 "cells": [
  {
   "cell_type": "code",
   "execution_count": 1,
   "metadata": {},
   "outputs": [],
   "source": [
    "import pandas as pd\n",
    "import os"
   ]
  },
  {
   "cell_type": "code",
   "execution_count": 2,
   "metadata": {},
   "outputs": [],
   "source": [
    "#path defined to load the file\n",
    "data_file = \"Resources/budget_data.csv\" "
   ]
  },
  {
   "cell_type": "code",
   "execution_count": 3,
   "metadata": {},
   "outputs": [],
   "source": [
    "# import budget_data.csv into a dataframe\n",
    "#file = \"Resources/budget_data.csv\"\n",
    "#budget_df = pd.read_csv(file)\n",
    "budget_df = pd.read_csv(data_file) "
   ]
  },
  {
   "cell_type": "code",
   "execution_count": 4,
   "metadata": {
    "scrolled": true
   },
   "outputs": [
    {
     "data": {
      "text/html": [
       "<div>\n",
       "<style scoped>\n",
       "    .dataframe tbody tr th:only-of-type {\n",
       "        vertical-align: middle;\n",
       "    }\n",
       "\n",
       "    .dataframe tbody tr th {\n",
       "        vertical-align: top;\n",
       "    }\n",
       "\n",
       "    .dataframe thead th {\n",
       "        text-align: right;\n",
       "    }\n",
       "</style>\n",
       "<table border=\"1\" class=\"dataframe\">\n",
       "  <thead>\n",
       "    <tr style=\"text-align: right;\">\n",
       "      <th></th>\n",
       "      <th>Date</th>\n",
       "      <th>Revenue</th>\n",
       "    </tr>\n",
       "  </thead>\n",
       "  <tbody>\n",
       "    <tr>\n",
       "      <th>0</th>\n",
       "      <td>Oct-12</td>\n",
       "      <td>1154293</td>\n",
       "    </tr>\n",
       "    <tr>\n",
       "      <th>1</th>\n",
       "      <td>Nov-12</td>\n",
       "      <td>885773</td>\n",
       "    </tr>\n",
       "    <tr>\n",
       "      <th>2</th>\n",
       "      <td>Dec-12</td>\n",
       "      <td>-448704</td>\n",
       "    </tr>\n",
       "    <tr>\n",
       "      <th>3</th>\n",
       "      <td>Jan-13</td>\n",
       "      <td>563679</td>\n",
       "    </tr>\n",
       "    <tr>\n",
       "      <th>4</th>\n",
       "      <td>Feb-13</td>\n",
       "      <td>555394</td>\n",
       "    </tr>\n",
       "    <tr>\n",
       "      <th>5</th>\n",
       "      <td>Mar-13</td>\n",
       "      <td>631974</td>\n",
       "    </tr>\n",
       "    <tr>\n",
       "      <th>6</th>\n",
       "      <td>Apr-13</td>\n",
       "      <td>957395</td>\n",
       "    </tr>\n",
       "    <tr>\n",
       "      <th>7</th>\n",
       "      <td>May-13</td>\n",
       "      <td>1104047</td>\n",
       "    </tr>\n",
       "    <tr>\n",
       "      <th>8</th>\n",
       "      <td>Jun-13</td>\n",
       "      <td>693464</td>\n",
       "    </tr>\n",
       "    <tr>\n",
       "      <th>9</th>\n",
       "      <td>Jul-13</td>\n",
       "      <td>454932</td>\n",
       "    </tr>\n",
       "    <tr>\n",
       "      <th>10</th>\n",
       "      <td>Aug-13</td>\n",
       "      <td>727272</td>\n",
       "    </tr>\n",
       "    <tr>\n",
       "      <th>11</th>\n",
       "      <td>Sep-13</td>\n",
       "      <td>125016</td>\n",
       "    </tr>\n",
       "    <tr>\n",
       "      <th>12</th>\n",
       "      <td>Oct-13</td>\n",
       "      <td>339251</td>\n",
       "    </tr>\n",
       "    <tr>\n",
       "      <th>13</th>\n",
       "      <td>Nov-13</td>\n",
       "      <td>78523</td>\n",
       "    </tr>\n",
       "    <tr>\n",
       "      <th>14</th>\n",
       "      <td>Dec-13</td>\n",
       "      <td>977084</td>\n",
       "    </tr>\n",
       "    <tr>\n",
       "      <th>15</th>\n",
       "      <td>Jan-14</td>\n",
       "      <td>1158718</td>\n",
       "    </tr>\n",
       "    <tr>\n",
       "      <th>16</th>\n",
       "      <td>Feb-14</td>\n",
       "      <td>332681</td>\n",
       "    </tr>\n",
       "    <tr>\n",
       "      <th>17</th>\n",
       "      <td>Mar-14</td>\n",
       "      <td>-341227</td>\n",
       "    </tr>\n",
       "    <tr>\n",
       "      <th>18</th>\n",
       "      <td>Apr-14</td>\n",
       "      <td>173826</td>\n",
       "    </tr>\n",
       "    <tr>\n",
       "      <th>19</th>\n",
       "      <td>May-14</td>\n",
       "      <td>742611</td>\n",
       "    </tr>\n",
       "    <tr>\n",
       "      <th>20</th>\n",
       "      <td>Jun-14</td>\n",
       "      <td>1189806</td>\n",
       "    </tr>\n",
       "    <tr>\n",
       "      <th>21</th>\n",
       "      <td>Jul-14</td>\n",
       "      <td>607363</td>\n",
       "    </tr>\n",
       "    <tr>\n",
       "      <th>22</th>\n",
       "      <td>Aug-14</td>\n",
       "      <td>-1172384</td>\n",
       "    </tr>\n",
       "    <tr>\n",
       "      <th>23</th>\n",
       "      <td>Sep-14</td>\n",
       "      <td>587993</td>\n",
       "    </tr>\n",
       "    <tr>\n",
       "      <th>24</th>\n",
       "      <td>Oct-14</td>\n",
       "      <td>295198</td>\n",
       "    </tr>\n",
       "    <tr>\n",
       "      <th>25</th>\n",
       "      <td>Nov-14</td>\n",
       "      <td>-300390</td>\n",
       "    </tr>\n",
       "    <tr>\n",
       "      <th>26</th>\n",
       "      <td>Dec-14</td>\n",
       "      <td>468995</td>\n",
       "    </tr>\n",
       "    <tr>\n",
       "      <th>27</th>\n",
       "      <td>Jan-15</td>\n",
       "      <td>698452</td>\n",
       "    </tr>\n",
       "    <tr>\n",
       "      <th>28</th>\n",
       "      <td>Feb-15</td>\n",
       "      <td>967828</td>\n",
       "    </tr>\n",
       "    <tr>\n",
       "      <th>29</th>\n",
       "      <td>Mar-15</td>\n",
       "      <td>-454873</td>\n",
       "    </tr>\n",
       "    <tr>\n",
       "      <th>30</th>\n",
       "      <td>Apr-15</td>\n",
       "      <td>375723</td>\n",
       "    </tr>\n",
       "    <tr>\n",
       "      <th>31</th>\n",
       "      <td>May-15</td>\n",
       "      <td>1140526</td>\n",
       "    </tr>\n",
       "    <tr>\n",
       "      <th>32</th>\n",
       "      <td>Jun-15</td>\n",
       "      <td>83836</td>\n",
       "    </tr>\n",
       "    <tr>\n",
       "      <th>33</th>\n",
       "      <td>Jul-15</td>\n",
       "      <td>413189</td>\n",
       "    </tr>\n",
       "    <tr>\n",
       "      <th>34</th>\n",
       "      <td>Aug-15</td>\n",
       "      <td>551363</td>\n",
       "    </tr>\n",
       "    <tr>\n",
       "      <th>35</th>\n",
       "      <td>Sep-15</td>\n",
       "      <td>1195111</td>\n",
       "    </tr>\n",
       "    <tr>\n",
       "      <th>36</th>\n",
       "      <td>Oct-15</td>\n",
       "      <td>657081</td>\n",
       "    </tr>\n",
       "    <tr>\n",
       "      <th>37</th>\n",
       "      <td>Nov-15</td>\n",
       "      <td>66659</td>\n",
       "    </tr>\n",
       "    <tr>\n",
       "      <th>38</th>\n",
       "      <td>Dec-15</td>\n",
       "      <td>803301</td>\n",
       "    </tr>\n",
       "    <tr>\n",
       "      <th>39</th>\n",
       "      <td>Jan-16</td>\n",
       "      <td>-953301</td>\n",
       "    </tr>\n",
       "    <tr>\n",
       "      <th>40</th>\n",
       "      <td>Feb-16</td>\n",
       "      <td>883934</td>\n",
       "    </tr>\n",
       "  </tbody>\n",
       "</table>\n",
       "</div>"
      ],
      "text/plain": [
       "      Date  Revenue\n",
       "0   Oct-12  1154293\n",
       "1   Nov-12   885773\n",
       "2   Dec-12  -448704\n",
       "3   Jan-13   563679\n",
       "4   Feb-13   555394\n",
       "5   Mar-13   631974\n",
       "6   Apr-13   957395\n",
       "7   May-13  1104047\n",
       "8   Jun-13   693464\n",
       "9   Jul-13   454932\n",
       "10  Aug-13   727272\n",
       "11  Sep-13   125016\n",
       "12  Oct-13   339251\n",
       "13  Nov-13    78523\n",
       "14  Dec-13   977084\n",
       "15  Jan-14  1158718\n",
       "16  Feb-14   332681\n",
       "17  Mar-14  -341227\n",
       "18  Apr-14   173826\n",
       "19  May-14   742611\n",
       "20  Jun-14  1189806\n",
       "21  Jul-14   607363\n",
       "22  Aug-14 -1172384\n",
       "23  Sep-14   587993\n",
       "24  Oct-14   295198\n",
       "25  Nov-14  -300390\n",
       "26  Dec-14   468995\n",
       "27  Jan-15   698452\n",
       "28  Feb-15   967828\n",
       "29  Mar-15  -454873\n",
       "30  Apr-15   375723\n",
       "31  May-15  1140526\n",
       "32  Jun-15    83836\n",
       "33  Jul-15   413189\n",
       "34  Aug-15   551363\n",
       "35  Sep-15  1195111\n",
       "36  Oct-15   657081\n",
       "37  Nov-15    66659\n",
       "38  Dec-15   803301\n",
       "39  Jan-16  -953301\n",
       "40  Feb-16   883934"
      ]
     },
     "execution_count": 4,
     "metadata": {},
     "output_type": "execute_result"
    }
   ],
   "source": [
    "budget_df"
   ]
  },
  {
   "cell_type": "code",
   "execution_count": 5,
   "metadata": {
    "scrolled": true
   },
   "outputs": [
    {
     "data": {
      "text/plain": [
       "41"
      ]
     },
     "execution_count": 5,
     "metadata": {},
     "output_type": "execute_result"
    }
   ],
   "source": [
    "Number_of_months =budget_df[\"Date\"].count()\n",
    "Number_of_months"
   ]
  },
  {
   "cell_type": "code",
   "execution_count": 6,
   "metadata": {},
   "outputs": [
    {
     "data": {
      "text/plain": [
       "18971412"
      ]
     },
     "execution_count": 6,
     "metadata": {},
     "output_type": "execute_result"
    }
   ],
   "source": [
    "sum_Revenue= budget_df[\"Revenue\"].sum()\n",
    "sum_Revenue "
   ]
  },
  {
   "cell_type": "code",
   "execution_count": 7,
   "metadata": {},
   "outputs": [
    {
     "data": {
      "text/plain": [
       "-6758.975"
      ]
     },
     "execution_count": 7,
     "metadata": {},
     "output_type": "execute_result"
    }
   ],
   "source": [
    "monthly_changes_list = []\n",
    "initial = 0\n",
    "final = 0\n",
    "for index, row in budget_df.iterrows():\n",
    "   if index == 0:\n",
    "       initial = row[\"Revenue\"]\n",
    "   else:\n",
    "       final = row[\"Revenue\"]\n",
    "       monthly_change = (final - initial)\n",
    "       monthly_changes_list.append(monthly_change)\n",
    "       initial = final\n",
    "       \n",
    "change_sum = 0\n",
    "for change in monthly_changes_list:\n",
    "   change_sum += change\n",
    "   \n",
    "average_change = change_sum/len(monthly_changes_list)\n",
    "average_change"
   ]
  },
  {
   "cell_type": "code",
   "execution_count": 8,
   "metadata": {},
   "outputs": [
    {
     "name": "stdout",
     "output_type": "stream",
     "text": [
      "[-268520, -1334477, 1012383, -8285, 76580, 325421, 146652, -410583, -238532, 272340, -602256, 214235, -260728, 898561, 181634, -826037, -673908, 515053, 568785, 447195, -582443, -1779747, 1760377, -292795, -595588, 769385, 229457, 269376, -1422701, 830596, 764803, -1056690, 329353, 138174, 643748, -538030, -590422, 736642, -1756602, 1837235]\n"
     ]
    }
   ],
   "source": [
    "print(monthly_changes_list)"
   ]
  },
  {
   "cell_type": "code",
   "execution_count": 9,
   "metadata": {
    "scrolled": false
   },
   "outputs": [
    {
     "data": {
      "text/plain": [
       "1195111"
      ]
     },
     "execution_count": 9,
     "metadata": {},
     "output_type": "execute_result"
    }
   ],
   "source": [
    "Max_Revenue= budget_df[\"Revenue\"].max()\n",
    "Max_Revenue "
   ]
  },
  {
   "cell_type": "code",
   "execution_count": 10,
   "metadata": {},
   "outputs": [
    {
     "data": {
      "text/plain": [
       "-1172384"
      ]
     },
     "execution_count": 10,
     "metadata": {},
     "output_type": "execute_result"
    }
   ],
   "source": [
    "Min_Revenue= budget_df[\"Revenue\"].min()\n",
    "Min_Revenue"
   ]
  },
  {
   "cell_type": "code",
   "execution_count": 11,
   "metadata": {},
   "outputs": [
    {
     "name": "stdout",
     "output_type": "stream",
     "text": [
      "Max increase in Profits: Sep-15 ($1195111)\n"
     ]
    }
   ],
   "source": [
    "\n",
    "for index, row in budget_df.iterrows():\n",
    "   if row[\"Revenue\"] == Max_Revenue:\n",
    "       Max_Revenue_month = row[\"Date\"]\n",
    "print(f\"Max increase in Profits: {Max_Revenue_month} (${Max_Revenue})\")"
   ]
  },
  {
   "cell_type": "code",
   "execution_count": 12,
   "metadata": {},
   "outputs": [
    {
     "name": "stdout",
     "output_type": "stream",
     "text": [
      "Min increase in Profits: Aug-14 ($-1172384)\n"
     ]
    }
   ],
   "source": [
    "for index, row in budget_df.iterrows():\n",
    "   if row[\"Revenue\"] == Min_Revenue:\n",
    "       Min_Revenue_month = row[\"Date\"]\n",
    "print(f\"Min increase in Profits: {Min_Revenue_month} (${Min_Revenue})\")"
   ]
  },
  {
   "cell_type": "code",
   "execution_count": 13,
   "metadata": {},
   "outputs": [
    {
     "name": "stdout",
     "output_type": "stream",
     "text": [
      "Financial Analysis\n",
      "------------\n",
      "Total Months: 41\n",
      "Total: $18971412\n",
      "Average Change: $-6758.975\n",
      "Greatest Increase in Profits: Sep-15 ($1195111)\n",
      "Greatest Decrease in Profits: Aug-14 ($-1172384)\n"
     ]
    }
   ],
   "source": [
    "print(\"Financial Analysis\")\n",
    "print(\"------------\")\n",
    "print(f\"Total Months: {Number_of_months}\")\n",
    "print(f\"Total: ${sum_Revenue}\")\n",
    "print(f\"Average Change: ${average_change}\")\n",
    "print(f\"Greatest Increase in Profits: {Max_Revenue_month} (${Max_Revenue})\")\n",
    "print(f\"Greatest Decrease in Profits: {Min_Revenue_month} (${Min_Revenue})\")\n"
   ]
  },
  {
   "cell_type": "code",
   "execution_count": 24,
   "metadata": {},
   "outputs": [
    {
     "name": "stdout",
     "output_type": "stream",
     "text": [
      "PyBank_Results\n",
      "Total Months: 41\n",
      "Total: $18971412\n",
      "Average Change: $-6758.975\n",
      "Greatest Increase in Profits: Sep-15 ($1195111)\n",
      "Greatest Decrease in Profits: Aug-14 ($-1172384)\n",
      "\n"
     ]
    }
   ],
   "source": [
    "# display results in .txt file\n",
    "output_file = os.path.join(\"Resources\", \"PyBank_Results.txt\")\n",
    "with open(output_file, \"w\") as datafile:\n",
    "    datafile.write(\"PyBank_Results\\n\")\n",
    "    datafile.write(f\"Total Months: {Number_of_months}\\n\")\n",
    "    datafile.write(f\"Total: ${sum_Revenue}\\n\")\n",
    "    datafile.write(f\"Average Change: ${average_change}\\n\")\n",
    "    datafile.write(f\"Greatest Increase in Profits: {Max_Revenue_month} (${Max_Revenue})\\n\")\n",
    "    datafile.write(f\"Greatest Decrease in Profits: {Min_Revenue_month} (${Min_Revenue})\\n\")\n",
    "   \n",
    "\n",
    "   \n",
    "   \n",
    "\n",
    "# print out contents of .txt file in terminal\n",
    "with open(output_file, \"r\") as f:\n",
    "   results = f.read()\n",
    "   print(results)"
   ]
  },
  {
   "cell_type": "code",
   "execution_count": null,
   "metadata": {},
   "outputs": [],
   "source": []
  },
  {
   "cell_type": "code",
   "execution_count": null,
   "metadata": {},
   "outputs": [],
   "source": []
  }
 ],
 "metadata": {
  "kernelspec": {
   "display_name": "Python 3",
   "language": "python",
   "name": "python3"
  },
  "language_info": {
   "codemirror_mode": {
    "name": "ipython",
    "version": 3
   },
   "file_extension": ".py",
   "mimetype": "text/x-python",
   "name": "python",
   "nbconvert_exporter": "python",
   "pygments_lexer": "ipython3",
   "version": "3.6.5"
  }
 },
 "nbformat": 4,
 "nbformat_minor": 2
}
